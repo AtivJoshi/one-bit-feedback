{
 "cells": [
  {
   "cell_type": "code",
   "execution_count": 64,
   "metadata": {},
   "outputs": [],
   "source": [
    "import numpy as np\n",
    "import numpy.linalg as la\n",
    "import importlib\n",
    "from tqdm import tqdm\n",
    "import bandit as bd\n",
    "importlib.reload(bd)\n",
    "import h5py\n",
    "from matplotlib import pyplot as plt\n",
    "from matplotlib import figure"
   ]
  },
  {
   "cell_type": "code",
   "execution_count": null,
   "metadata": {},
   "outputs": [],
   "source": [
    "data=np.load('data/data_exp_N20_T10000_beta1.npy')\n",
    "T=100\n",
    "N=20\n",
    "k=7\n",
    "beta=1\n",
    "dtype=f'exp_beta_{beta}'\n",
    "r_hedge=bd.hedge(data,T,N,k)\n",
    "r_sp=bd.bandit_sparse_estimator(data,T,N,k)\n",
    "r_lstsq=bd.bandit_least_sq_estimator(data,T,N,k)\n",
    "r_ips=bd.bandit_ips_estimator(data,T,N,k)"
   ]
  },
  {
   "cell_type": "code",
   "execution_count": 43,
   "metadata": {},
   "outputs": [],
   "source": [
    "store=h5py.File(f'output/output_{dtype}_files_{N}_cache_{k}_time_{T}.h5','w')\n",
    "store.create_dataset('data',data=data)\n",
    "store['data'].attrs['num_files']=N\n",
    "store['data'].attrs['cache_size']=k\n",
    "store['data'].attrs['time']=T\n",
    "store['regret/sparse_estimator']=r_sp\n",
    "store['regret/hedge']=r_hedge\n",
    "store['regret/least_sq_estimator']=r_lstsq\n",
    "store['regret/ips_estimator']=r_ips\n",
    "store.close()"
   ]
  },
  {
   "cell_type": "code",
   "execution_count": null,
   "metadata": {},
   "outputs": [],
   "source": [
    "with h5py.File('output/output_exp_beta_0.5_files_20_cache_7_time_50000.h5','r') as store:\n",
    "    plt.figure(dpi=200)\n",
    "    plt.plot(store['regret/hedge'], label='hedge')\n",
    "    plt.plot(store['regret/sparse_estimator'], label='sparse_estimator')\n",
    "    plt.plot(store['regret/least_sq_estimator'], label='least_sq_estimator')\n",
    "    plt.plot(store['regret/ips_estimator'], label='ips_estimator')\n",
    "    plt.legend()"
   ]
  }
 ],
 "metadata": {
  "kernelspec": {
   "display_name": "Python 3.8.11 ('base')",
   "language": "python",
   "name": "python3"
  },
  "language_info": {
   "codemirror_mode": {
    "name": "ipython",
    "version": 3
   },
   "file_extension": ".py",
   "mimetype": "text/x-python",
   "name": "python",
   "nbconvert_exporter": "python",
   "pygments_lexer": "ipython3",
   "version": "3.8.11"
  },
  "orig_nbformat": 4,
  "vscode": {
   "interpreter": {
    "hash": "ccea24c44f962f1a297b9d5136c4a88ea9f80cd6183cc180206da41d7855a428"
   }
  }
 },
 "nbformat": 4,
 "nbformat_minor": 2
}
